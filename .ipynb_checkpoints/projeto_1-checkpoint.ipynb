{
 "cells": [
  {
   "cell_type": "code",
   "execution_count": 13,
   "id": "comparable-fluid",
   "metadata": {},
   "outputs": [],
   "source": [
    "from sklearn import preprocessing\n",
    "import numpy as np\n",
    "import matplotlib.pyplot as plt\n",
    "import matplotlib.cm as cm"
   ]
  },
  {
   "cell_type": "markdown",
   "id": "fifteen-success",
   "metadata": {},
   "source": [
    "1 - Lendo o arquivo dados.npy"
   ]
  },
  {
   "cell_type": "code",
   "execution_count": 14,
   "id": "false-column",
   "metadata": {},
   "outputs": [],
   "source": [
    "X = np.load('dados.npy')"
   ]
  },
  {
   "cell_type": "markdown",
   "id": "nearby-athens",
   "metadata": {},
   "source": [
    "2 - Imprimindo as 3 primeiras imagens "
   ]
  },
  {
   "cell_type": "markdown",
   "id": "peaceful-showcase",
   "metadata": {},
   "source": [
    "Transformando cada linha da matriz X numa matriz 28x28"
   ]
  },
  {
   "cell_type": "code",
   "execution_count": 15,
   "id": "front-clark",
   "metadata": {},
   "outputs": [],
   "source": [
    "Y = X.reshape(10500, 28, 28)"
   ]
  },
  {
   "cell_type": "markdown",
   "id": "weighted-source",
   "metadata": {},
   "source": [
    "Imprimindo a primeira imagem da matriz X (linha 1)"
   ]
  },
  {
   "cell_type": "code",
   "execution_count": 16,
   "id": "complicated-start",
   "metadata": {},
   "outputs": [
    {
     "data": {
      "text/plain": [
       "<matplotlib.image.AxesImage at 0x7fc71bd26a60>"
      ]
     },
     "execution_count": 16,
     "metadata": {},
     "output_type": "execute_result"
    },
    {
     "data": {
      "image/png": "[encoded data removed]",
      "text/plain": [
       "<Figure size 432x288 with 1 Axes>"
      ]
     },
     "metadata": {
      "needs_background": "light"
     },
     "output_type": "display_data"
    }
   ],
   "source": [
    "plt.imshow(Y[0], cmap=cm.gray)"
   ]
  },
  {
   "cell_type": "markdown",
   "id": "refined-coupon",
   "metadata": {},
   "source": [
    "Imprimindo a segunda imagem da matriz X (linha 2)"
   ]
  },
  {
   "cell_type": "code",
   "execution_count": 17,
   "id": "pretty-storm",
   "metadata": {},
   "outputs": [
    {
     "data": {
      "text/plain": [
       "<matplotlib.image.AxesImage at 0x7fc71b589d60>"
      ]
     },
     "execution_count": 17,
     "metadata": {},
     "output_type": "execute_result"
    },
    {
     "data": {
      "image/png": "[encoded data removed]",
      "text/plain": [
       "<Figure size 432x288 with 1 Axes>"
      ]
     },
     "metadata": {
      "needs_background": "light"
     },
     "output_type": "display_data"
    }
   ],
   "source": [
    "plt.imshow(Y[1], cmap=cm.gray)"
   ]
  },
  {
   "cell_type": "markdown",
   "id": "cloudy-enclosure",
   "metadata": {},
   "source": [
    "Imprimindo a terceira imagem da matriz X (linha 3)"
   ]
  },
  {
   "cell_type": "code",
   "execution_count": 18,
   "id": "corresponding-instruction",
   "metadata": {},
   "outputs": [
    {
     "data": {
      "text/plain": [
       "<matplotlib.image.AxesImage at 0x7fc71b4e9760>"
      ]
     },
     "execution_count": 18,
     "metadata": {},
     "output_type": "execute_result"
    },
    {
     "data": {
      "image/png": "[encoded data removed]",
      "text/plain": [
       "<Figure size 432x288 with 1 Axes>"
      ]
     },
     "metadata": {
      "needs_background": "light"
     },
     "output_type": "display_data"
    }
   ],
   "source": [
    "plt.imshow(Y[2], cmap=cm.gray)"
   ]
  },
  {
   "cell_type": "markdown",
   "id": "gross-offset",
   "metadata": {},
   "source": [
    "3 - Fatoração svd da matriz X.\n",
    "\n",
    "Normalizando os dados."
   ]
  },
  {
   "cell_type": "code",
   "execution_count": 20,
   "id": "embedded-house",
   "metadata": {},
   "outputs": [],
   "source": [
    "X_normalized = preprocessing.normalize(X)"
   ]
  },
  {
   "cell_type": "markdown",
   "id": "improved-garage",
   "metadata": {},
   "source": [
    "Fazendo a fatoração SVD da matriz X (full matrix)"
   ]
  },
  {
   "cell_type": "code",
   "execution_count": 21,
   "id": "pleased-louis",
   "metadata": {},
   "outputs": [],
   "source": [
    "U, D, Vt = np.linalg.svd(X, full_matrices=True)"
   ]
  },
  {
   "cell_type": "markdown",
   "id": "driving-penalty",
   "metadata": {},
   "source": [
    "Tamanho das matrizes"
   ]
  },
  {
   "cell_type": "code",
   "execution_count": 22,
   "id": "dominant-nature",
   "metadata": {},
   "outputs": [
    {
     "data": {
      "text/plain": [
       "((10500, 10500), (784,), (784, 784))"
      ]
     },
     "execution_count": 22,
     "metadata": {},
     "output_type": "execute_result"
    }
   ],
   "source": [
    "U.shape, D.shape, Vt.shape"
   ]
  },
  {
   "cell_type": "markdown",
   "id": "threaded-ecuador",
   "metadata": {},
   "source": [
    "Fazendo a fatoração SVD da matriz X (Compacta)"
   ]
  },
  {
   "cell_type": "code",
   "execution_count": 23,
   "id": "earlier-ready",
   "metadata": {},
   "outputs": [],
   "source": [
    "U, D, Vt = np.linalg.svd(X, full_matrices=False)"
   ]
  },
  {
   "cell_type": "markdown",
   "id": "local-occasion",
   "metadata": {},
   "source": [
    "Tamanho das matrizes"
   ]
  },
  {
   "cell_type": "code",
   "execution_count": 25,
   "id": "dress-jordan",
   "metadata": {},
   "outputs": [
    {
     "data": {
      "text/plain": [
       "((10500, 784), (784,), (784, 784))"
      ]
     },
     "execution_count": 25,
     "metadata": {},
     "output_type": "execute_result"
    }
   ],
   "source": [
    "U.shape, D.shape, Vt.shape"
   ]
  },
  {
   "cell_type": "code",
   "execution_count": null,
   "id": "psychological-promotion",
   "metadata": {},
   "outputs": [],
   "source": []
  }
 ],
 "metadata": {
  "kernelspec": {
   "display_name": "Python 3",
   "language": "python",
   "name": "python3"
  },
  "language_info": {
   "codemirror_mode": {
    "name": "ipython",
    "version": 3
   },
   "file_extension": ".py",
   "mimetype": "text/x-python",
   "name": "python",
   "nbconvert_exporter": "python",
   "pygments_lexer": "ipython3",
   "version": "3.8.5"
  }
 },
 "nbformat": 4,
 "nbformat_minor": 5
}
