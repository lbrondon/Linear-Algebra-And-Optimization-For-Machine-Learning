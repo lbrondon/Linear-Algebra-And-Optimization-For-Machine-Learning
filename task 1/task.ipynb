{
 "cells": [
  {
   "cell_type": "markdown",
   "id": "improving-grove",
   "metadata": {},
   "source": [
    "# **Task 1**: Linear Algebra and Optimization for ML -  MO431A\n",
    "University of Campinas (UNICAMP), Institute of Computing (IC)\n",
    "\n",
    "Prof. Jacques Wainer, 2021s1\n"
   ]
  },
  {
   "cell_type": "markdown",
   "id": "operating-challenge",
   "metadata": {},
   "source": [
    "## Imports needed for this project"
   ]
  },
  {
   "cell_type": "code",
   "execution_count": null,
   "id": "junior-romantic",
   "metadata": {},
   "outputs": [],
   "source": [
    "import numpy as np\n",
    "import matplotlib.pyplot as plt\n",
    "import matplotlib.cm as cm\n",
    "from sklearn.preprocessing import Normalizer\n",
    "from sklearn.decomposition import PCA"
   ]
  },
  {
   "cell_type": "markdown",
   "id": "least-dominant",
   "metadata": {},
   "source": [
    "## Database reading"
   ]
  },
  {
   "cell_type": "code",
   "execution_count": null,
   "id": "ultimate-flight",
   "metadata": {},
   "outputs": [],
   "source": [
    "X = np.load('db/dados.npy')"
   ]
  },
  {
   "cell_type": "markdown",
   "id": "limited-printer",
   "metadata": {},
   "source": [
    "### Printing the first three images from the database"
   ]
  },
  {
   "cell_type": "code",
   "execution_count": null,
   "id": "missing-genealogy",
   "metadata": {},
   "outputs": [],
   "source": [
    "fig = plt.figure(figsize=(10, 7))\n",
    "\n",
    "for i in range(3):\n",
    "    #reshape figure    \n",
    "    img = np.reshape(X[i], (28, 28))\n",
    "    \n",
    "    #positioning figure\n",
    "    fig.add_subplot(1, 3, i+1)  \n",
    "    \n",
    "    # showing image\n",
    "    plt.imshow(img)\n",
    "    plt.axis('off')\n",
    "    plt.title(\"Sample #{0}\".format(i))\n",
    "    plt.imshow(img, cmap=cm.gray)\n",
    "    "
   ]
  },
  {
   "cell_type": "markdown",
   "id": "distributed-catalyst",
   "metadata": {},
   "source": [
    "### Dataset Normalization"
   ]
  },
  {
   "cell_type": "code",
   "execution_count": null,
   "id": "fourth-signal",
   "metadata": {},
   "outputs": [],
   "source": [
    "X = Normalizer().transform(X)"
   ]
  },
  {
   "cell_type": "markdown",
   "id": "dried-speaker",
   "metadata": {},
   "source": [
    "## Matrix Factoring"
   ]
  },
  {
   "cell_type": "code",
   "execution_count": null,
   "id": "pediatric-night",
   "metadata": {},
   "outputs": [],
   "source": [
    "## Full Matrix\n",
    "U, D, Vt = np.linalg.svd(X, full_matrices=True)\n",
    "# Shape das matrizes\n",
    "print(f'U  full matriz shape = {U.shape}')  #Autovectors\n",
    "print(f'D  full matriz shape = {D.shape}')  #Autovalues\n",
    "print(f'Vt full matriz shape = {Vt.shape}') #Orthogonal\n",
    "\n",
    "\n",
    "## Compact Matrix\n",
    "Uc, Dc, Vtc = np.linalg.svd(X, full_matrices=False)\n",
    "# Shape das matrizes compactas\n",
    "print(f'U  compact matriz shape = {Uc.shape}')  #Autovectors\n",
    "print(f'D  compact matriz shape = {Dc.shape}')  #Autovalues\n",
    "print(f'Vt compact matriz shape = {Vtc.shape}') #Orthogonal"
   ]
  },
  {
   "cell_type": "markdown",
   "id": "working-password",
   "metadata": {},
   "source": [
    "## Dimensionality Reduction"
   ]
  },
  {
   "cell_type": "markdown",
   "id": "mexican-touch",
   "metadata": {},
   "source": [
    "### Reduction to 100 dimensions"
   ]
  },
  {
   "cell_type": "code",
   "execution_count": null,
   "id": "neutral-voice",
   "metadata": {
    "scrolled": true
   },
   "outputs": [],
   "source": [
    "pca = PCA(n_components=100)\n",
    "reducedMatrix = pca.fit_transform(X)\n",
    "\n",
    "# Shape of reduced Matrix\n",
    "print(f'Reduced Matrix shape: {reducedMatrix.shape}')\n"
   ]
  },
  {
   "cell_type": "markdown",
   "id": "express-preserve",
   "metadata": {},
   "source": [
    "### Reconstructed Matrix"
   ]
  },
  {
   "cell_type": "code",
   "execution_count": null,
   "id": "intended-paste",
   "metadata": {
    "scrolled": true
   },
   "outputs": [],
   "source": [
    "reconstruct_matrix = pca.inverse_transform(reducedMatrix)\n",
    "\n",
    "print(f'Reconstruct matrix shape: {reconstruct_matrix.shape}')"
   ]
  },
  {
   "cell_type": "markdown",
   "id": "personalized-penguin",
   "metadata": {},
   "source": [
    "## Printing of the first three reconstructed images"
   ]
  },
  {
   "cell_type": "code",
   "execution_count": null,
   "id": "excellent-intensity",
   "metadata": {
    "scrolled": true
   },
   "outputs": [],
   "source": [
    "fig = plt.figure(figsize=(10, 7))\n",
    "\n",
    "for i in range(3):\n",
    "    #reshape figure    \n",
    "    img = np.reshape(reconstruct_matrix[i], (28, 28))\n",
    "    \n",
    "    #positioning figure\n",
    "    fig.add_subplot(1, 3, i+1)  \n",
    "    \n",
    "    # showing image\n",
    "    plt.imshow(img)\n",
    "    plt.axis('off')\n",
    "    plt.title(\"Sample #{0}\".format(i))\n",
    "    plt.imshow(img, cmap=cm.gray)\n",
    "    "
   ]
  },
  {
   "cell_type": "markdown",
   "id": "premier-highlight",
   "metadata": {},
   "source": [
    "## Print of the first three Eigen-digits"
   ]
  },
  {
   "cell_type": "code",
   "execution_count": null,
   "id": "biological-portsmouth",
   "metadata": {
    "scrolled": false
   },
   "outputs": [],
   "source": [
    "# Compute U, D and Vt matrices for the reduced matrix\n",
    "U_reduced, D_reduced, Vt_reduced = np.linalg.svd(reducedMatrix, full_matrices=False)\n",
    "\n",
    "print(f'Digit #0: \\n{Vt_reduced[0]} \\n')\n",
    "print(f'Digit #1: \\n {Vt_reduced[1]} \\n')\n",
    "print(f'Digit #2: \\n{Vt_reduced[2]}')\n",
    "\n"
   ]
  },
  {
   "cell_type": "code",
   "execution_count": null,
   "id": "united-equation",
   "metadata": {},
   "outputs": [],
   "source": [
    "## Exemplo dos eigen-digitos Vt reduzido\n",
    "\n",
    "fig = plt.figure(figsize=(10, 10))\n",
    "# The eigen values are the bases of the reduced subspace, thus Vt will be used\n",
    "for i in range(3):\n",
    "    #reshape figure    \n",
    "    img = np.reshape(Vt_reduced[i], (10, 10))\n",
    "    \n",
    "    #positioning figure\n",
    "    fig.add_subplot(1, 3, i+1)  \n",
    "    \n",
    "    # showing image\n",
    "    plt.imshow(img)\n",
    "    plt.axis('off')\n",
    "    plt.title(\"Sample #{0}\".format(i))\n",
    "    plt.imshow(img, cmap=cm.gray)"
   ]
  },
  {
   "cell_type": "code",
   "execution_count": null,
   "id": "caring-tucson",
   "metadata": {},
   "outputs": [],
   "source": [
    "## Exemplo dos eigen-digitos \n",
    "\n",
    "fig = plt.figure(figsize=(10, 10))\n",
    "# The eigen values are the bases of the reduced subspace, thus Vt will be used\n",
    "for i in range(3):\n",
    "    #reshape figure    \n",
    "    img = np.reshape(Vt[i], (28, 28))\n",
    "    \n",
    "    #positioning figure\n",
    "    fig.add_subplot(1, 3, i+1)  \n",
    "    \n",
    "    # showing image\n",
    "    plt.imshow(img)\n",
    "    plt.axis('off')\n",
    "    plt.title(\"Sample #{0}\".format(i))\n",
    "    plt.imshow(img, cmap=cm.gray)\n",
    "    "
   ]
  },
  {
   "cell_type": "markdown",
   "id": "compatible-animation",
   "metadata": {},
   "source": [
    "## Decision of the number of dimensions"
   ]
  },
  {
   "cell_type": "code",
   "execution_count": null,
   "id": "heated-scottish",
   "metadata": {},
   "outputs": [],
   "source": [
    "### Quantas dimensões manter, seguindo a regra do singular values > 1\n",
    "\n",
    "pca = PCA(n_components=271)\n",
    "pca.fit(X)\n",
    "reducedMatrix_SV = pca.transform(X)\n",
    "_, d_sv, _ = np.linalg.svd(reducedMatrix_SV, full_matrices=False)\n",
    "\n",
    "print(f'Dimension = 271: \\n{d_sv} \\n')\n",
    "\n",
    "pca = PCA(n_components=272)\n",
    "pca.fit(X)\n",
    "reducedMatrix_SV = pca.transform(X)\n",
    "_, d_sv, _ = np.linalg.svd(reducedMatrix_SV, full_matrices=False)\n",
    "\n",
    "print(f'Dimension = 272: \\n{d_sv} \\n')\n",
    "\n",
    "pca = PCA(n_components=273)\n",
    "pca.fit(X)\n",
    "reducedMatrix_SV = pca.transform(X)\n",
    "_, d_sv, _ = np.linalg.svd(reducedMatrix_SV, full_matrices=False)\n",
    "\n",
    "print(f'Dimension = 273: \\n{d_sv} \\n')\n"
   ]
  },
  {
   "cell_type": "markdown",
   "id": "renewable-thomson",
   "metadata": {},
   "source": [
    "### Conclusion\n",
    "Following the singular values > 1 rule, we must keep 272 dimensions"
   ]
  },
  {
   "cell_type": "code",
   "execution_count": null,
   "id": "institutional-revision",
   "metadata": {
    "scrolled": true
   },
   "outputs": [],
   "source": [
    "### Capturar 80% da variância\n",
    "\n",
    "# calcular variância da matriz compacta\n",
    "sd_value = Dc.sum() * (8/10) # 80% do valor\n",
    "print(f'80% of value: {sd_value}')\n",
    "\n",
    "r_list = [50, 75, 125, 150, 200, 250, 275, 276, 300]\n",
    "\n",
    "for r in r_list:\n",
    "    pca = PCA(n_components=r)\n",
    "    pca.fit(X)\n",
    "    reducedMatrix_SD = pca.transform(X)\n",
    "    _, d_sd, _ = np.linalg.svd(reducedMatrix_SD, full_matrices=False)\n",
    "    print(f'Sum of D = {d_sd.sum()} \\t for r = [{r}]')\n",
    "\n",
    "print('Best value of r = 276')"
   ]
  },
  {
   "cell_type": "markdown",
   "id": "interstate-incidence",
   "metadata": {},
   "source": [
    "### Conclusion\n",
    "Following the rule of capturing 80% of the variance, we must keep 275 dimensions"
   ]
  },
  {
   "cell_type": "code",
   "execution_count": null,
   "id": "negative-comment",
   "metadata": {
    "scrolled": true
   },
   "outputs": [],
   "source": [
    "### Capturar 95% da variância\n",
    "\n",
    "# calcular variância da matriz compacta\n",
    "sd_value = Dc.sum() * (95/100) # 95% do valor\n",
    "print(f'95% of value: {sd_value}')\n",
    "\n",
    "r_list = [500, 525, 550, 575, 600, 625, 650, 675, 700, 725, 750]\n",
    "\n",
    "for r in r_list:\n",
    "    pca = PCA(n_components=r)\n",
    "    pca.fit(X)\n",
    "    reducedMatrix_SD = pca.transform(X)\n",
    "    _, d_sd, _ = np.linalg.svd(reducedMatrix_SD, full_matrices=False)\n",
    "    print(f'Sum of D = {d_sd.sum()} \\t for r = [{r}]')\n",
    "    \n",
    "print('Best value of r = 675')\n"
   ]
  },
  {
   "cell_type": "markdown",
   "id": "nervous-variation",
   "metadata": {},
   "source": [
    "### Conclusion\n",
    "Following the rule of capturing 95% of the variance, we must keep 675 dimensions"
   ]
  },
  {
   "cell_type": "code",
   "execution_count": null,
   "id": "672e8ecb",
   "metadata": {},
   "outputs": [],
   "source": []
  }
 ],
 "metadata": {
  "kernelspec": {
   "display_name": "Python 3",
   "language": "python",
   "name": "python3"
  },
  "language_info": {
   "codemirror_mode": {
    "name": "ipython",
    "version": 3
   },
   "file_extension": ".py",
   "mimetype": "text/x-python",
   "name": "python",
   "nbconvert_exporter": "python",
   "pygments_lexer": "ipython3",
   "version": "3.7.10"
  }
 },
 "nbformat": 4,
 "nbformat_minor": 5
}
